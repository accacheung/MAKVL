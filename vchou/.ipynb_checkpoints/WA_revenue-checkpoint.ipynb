{
 "cells": [
  {
   "cell_type": "code",
   "execution_count": 3,
   "metadata": {},
   "outputs": [],
   "source": [
    "# Dependencies\n",
    "import matplotlib.pyplot as plt\n",
    "import pandas as pd\n",
    "import numpy as np\n",
    "from scipy.stats import linregress"
   ]
  },
  {
   "cell_type": "code",
   "execution_count": 4,
   "metadata": {},
   "outputs": [
    {
     "data": {
      "text/html": [
       "<div>\n",
       "<style scoped>\n",
       "    .dataframe tbody tr th:only-of-type {\n",
       "        vertical-align: middle;\n",
       "    }\n",
       "\n",
       "    .dataframe tbody tr th {\n",
       "        vertical-align: top;\n",
       "    }\n",
       "\n",
       "    .dataframe thead th {\n",
       "        text-align: right;\n",
       "    }\n",
       "</style>\n",
       "<table border=\"1\" class=\"dataframe\">\n",
       "  <thead>\n",
       "    <tr style=\"text-align: right;\">\n",
       "      <th></th>\n",
       "      <th>Date</th>\n",
       "      <th>Sales</th>\n",
       "      <th>Excise Tax Due</th>\n",
       "      <th>Sales (Shelf Price)</th>\n",
       "    </tr>\n",
       "  </thead>\n",
       "  <tbody>\n",
       "    <tr>\n",
       "      <th>940</th>\n",
       "      <td>12/27/2016</td>\n",
       "      <td>3324831.99</td>\n",
       "      <td>752106.45</td>\n",
       "      <td>4076938.44</td>\n",
       "    </tr>\n",
       "    <tr>\n",
       "      <th>941</th>\n",
       "      <td>12/28/2016</td>\n",
       "      <td>3452036.10</td>\n",
       "      <td>797870.30</td>\n",
       "      <td>4249906.40</td>\n",
       "    </tr>\n",
       "    <tr>\n",
       "      <th>942</th>\n",
       "      <td>12/29/2016</td>\n",
       "      <td>4200475.36</td>\n",
       "      <td>859655.24</td>\n",
       "      <td>5060130.60</td>\n",
       "    </tr>\n",
       "    <tr>\n",
       "      <th>943</th>\n",
       "      <td>12/30/2016</td>\n",
       "      <td>5221889.13</td>\n",
       "      <td>1243811.86</td>\n",
       "      <td>6465700.99</td>\n",
       "    </tr>\n",
       "    <tr>\n",
       "      <th>944</th>\n",
       "      <td>12/31/2016</td>\n",
       "      <td>3713397.08</td>\n",
       "      <td>1354076.00</td>\n",
       "      <td>5067473.08</td>\n",
       "    </tr>\n",
       "  </tbody>\n",
       "</table>\n",
       "</div>"
      ],
      "text/plain": [
       "           Date       Sales  Excise Tax Due  Sales (Shelf Price)\n",
       "940  12/27/2016  3324831.99       752106.45           4076938.44\n",
       "941  12/28/2016  3452036.10       797870.30           4249906.40\n",
       "942  12/29/2016  4200475.36       859655.24           5060130.60\n",
       "943  12/30/2016  5221889.13      1243811.86           6465700.99\n",
       "944  12/31/2016  3713397.08      1354076.00           5067473.08"
      ]
     },
     "execution_count": 4,
     "metadata": {},
     "output_type": "execute_result"
    }
   ],
   "source": [
    "#Total WA sales by calendar year\n",
    "revenue = \"2014_to_2016_WA_revenue.csv\"\n",
    "\n",
    "revenue_df = fy2015_df = pd.read_csv(revenue)\n",
    "\n",
    "#Preview of revenue dataframe\n",
    "revenue_df.tail()"
   ]
  },
  {
   "cell_type": "code",
   "execution_count": 5,
   "metadata": {},
   "outputs": [
    {
     "data": {
      "text/plain": [
       "940   2016-12-27\n",
       "941   2016-12-28\n",
       "942   2016-12-29\n",
       "943   2016-12-30\n",
       "944   2016-12-31\n",
       "Name: Date, dtype: datetime64[ns]"
      ]
     },
     "execution_count": 5,
     "metadata": {},
     "output_type": "execute_result"
    }
   ],
   "source": [
    "#Converted Date column to series with dtype datetime64[ns]\n",
    "revenue_df[\"Date\"] = pd.to_datetime(revenue_df[\"Date\"])\n",
    "\n",
    "revenue_df[\"Date\"].tail()"
   ]
  },
  {
   "cell_type": "code",
   "execution_count": 6,
   "metadata": {},
   "outputs": [
    {
     "data": {
      "text/html": [
       "<div>\n",
       "<style scoped>\n",
       "    .dataframe tbody tr th:only-of-type {\n",
       "        vertical-align: middle;\n",
       "    }\n",
       "\n",
       "    .dataframe tbody tr th {\n",
       "        vertical-align: top;\n",
       "    }\n",
       "\n",
       "    .dataframe thead th {\n",
       "        text-align: right;\n",
       "    }\n",
       "</style>\n",
       "<table border=\"1\" class=\"dataframe\">\n",
       "  <thead>\n",
       "    <tr style=\"text-align: right;\">\n",
       "      <th></th>\n",
       "      <th>Sales</th>\n",
       "      <th>Excise Tax Due</th>\n",
       "      <th>Sales (Shelf Price)</th>\n",
       "    </tr>\n",
       "    <tr>\n",
       "      <th>Date</th>\n",
       "      <th></th>\n",
       "      <th></th>\n",
       "      <th></th>\n",
       "    </tr>\n",
       "  </thead>\n",
       "  <tbody>\n",
       "    <tr>\n",
       "      <th>2014-06-01</th>\n",
       "      <td>0.0</td>\n",
       "      <td>0.0</td>\n",
       "      <td>0.0</td>\n",
       "    </tr>\n",
       "    <tr>\n",
       "      <th>2014-06-02</th>\n",
       "      <td>0.0</td>\n",
       "      <td>0.0</td>\n",
       "      <td>0.0</td>\n",
       "    </tr>\n",
       "    <tr>\n",
       "      <th>2014-06-03</th>\n",
       "      <td>0.0</td>\n",
       "      <td>0.0</td>\n",
       "      <td>0.0</td>\n",
       "    </tr>\n",
       "    <tr>\n",
       "      <th>2014-06-04</th>\n",
       "      <td>0.0</td>\n",
       "      <td>0.0</td>\n",
       "      <td>0.0</td>\n",
       "    </tr>\n",
       "    <tr>\n",
       "      <th>2014-06-05</th>\n",
       "      <td>0.0</td>\n",
       "      <td>0.0</td>\n",
       "      <td>0.0</td>\n",
       "    </tr>\n",
       "  </tbody>\n",
       "</table>\n",
       "</div>"
      ],
      "text/plain": [
       "            Sales  Excise Tax Due  Sales (Shelf Price)\n",
       "Date                                                  \n",
       "2014-06-01    0.0             0.0                  0.0\n",
       "2014-06-02    0.0             0.0                  0.0\n",
       "2014-06-03    0.0             0.0                  0.0\n",
       "2014-06-04    0.0             0.0                  0.0\n",
       "2014-06-05    0.0             0.0                  0.0"
      ]
     },
     "execution_count": 6,
     "metadata": {},
     "output_type": "execute_result"
    }
   ],
   "source": [
    "revenue_date_index = revenue_df.set_index(\"Date\")\n",
    "revenue_date_index.head()"
   ]
  },
  {
   "cell_type": "code",
   "execution_count": 7,
   "metadata": {},
   "outputs": [
    {
     "data": {
      "text/plain": [
       "Date\n",
       "2014-06-30        6300.00\n",
       "2014-07-31     3237212.69\n",
       "2014-08-31     7053729.98\n",
       "2014-09-30     8627392.04\n",
       "2014-10-31    13051504.96\n",
       "Freq: M, Name: Sales (Shelf Price), dtype: float64"
      ]
     },
     "execution_count": 7,
     "metadata": {},
     "output_type": "execute_result"
    }
   ],
   "source": [
    "revenue_date_groupby = revenue_date_index.groupby(pd.Grouper(freq='M'))[\"Sales (Shelf Price)\"].sum()\n",
    "revenue_date_groupby.head()"
   ]
  },
  {
   "cell_type": "code",
   "execution_count": 8,
   "metadata": {},
   "outputs": [],
   "source": [
    "monthly_revenue_df = pd.DataFrame({\"Sales Revenue\": revenue_date_groupby})\n",
    "monthly_revenue_df = monthly_revenue_df.reset_index()"
   ]
  },
  {
   "cell_type": "code",
   "execution_count": 12,
   "metadata": {},
   "outputs": [
    {
     "data": {
      "text/plain": [
       "[<matplotlib.lines.Line2D at 0x259ab78ad68>]"
      ]
     },
     "execution_count": 12,
     "metadata": {},
     "output_type": "execute_result"
    },
    {
     "data": {
      "image/png": "[encoded data removed]",
      "text/plain": [
       "<Figure size 1440x720 with 1 Axes>"
      ]
     },
     "metadata": {},
     "output_type": "display_data"
    },
    {
     "data": {
      "image/png": "[encoded data removed]",
      "text/plain": [
       "<Figure size 1440x720 with 1 Axes>"
      ]
     },
     "metadata": {},
     "output_type": "display_data"
    }
   ],
   "source": [
    "dates_x_axis = monthly_revenue_df[\"Date\"].tolist()\n",
    "revenue_y_axis= (monthly_revenue_df[\"Sales Revenue\"]/1000000).tolist()\n",
    "\n",
    "plt.scatter(dates_x_axis, revenue_y_axis, s =10, c = 'green', alpha=0.75)\n",
    "\n",
    "plt.title(\"Marijuana Sales Revenue (US$, millions) in the State of WA Over Time\")\n",
    "#plt.xlabel(\"Date (Since First Sale of Marijuana)\")\n",
    "plt.ylabel(\"Sales Revenue (US$, millions)\")\n",
    "\n",
    "plt.rc('figure', figsize = (20,10))\n",
    "\n",
    "x_axis = np.arange(0,len(dates_x_axis),1)\n",
    "(slope, intercept, _, _, _) = linregress(x_axis, revenue_y_axis)\n",
    "fit = slope * x_axis + intercept\n",
    "\n",
    "fig, ax = plt.subplots()\n",
    "ax.plot(x_axis, revenue_y_axis, linewidth=0, marker='o')\n",
    "ax.plot(x_axis, fit, 'b--')"
   ]
  },
  {
   "cell_type": "code",
   "execution_count": null,
   "metadata": {},
   "outputs": [],
   "source": [
    "def bins():\n",
    "    bins = []\n",
    "    years = [2014, 2015, 2016]\n",
    "    for year in years:\n",
    "        for i in range(1,13):\n",
    "            month_bin = f'{i}/{year}'\n",
    "            bins.append(month_bin)\n",
    "    return bins\n",
    "\n",
    "bins()"
   ]
  },
  {
   "cell_type": "code",
   "execution_count": null,
   "metadata": {},
   "outputs": [],
   "source": [
    "#Created separate dataframes for each year from 2014 to 2016\n",
    "dates_2014 = (revenue_df['Date'] > \"2013-12-31\") & (revenue_df['Date'] <= \"2014-12-31\")\n",
    "dates_2015 = (revenue_df['Date'] > \"2014-12-31\") & (revenue_df['Date'] <= \"2015-12-31\")\n",
    "dates_2016 = (revenue_df['Date'] > \"2015-12-31\") & (revenue_df['Date'] <= \"2016-12-31\")\n",
    "\n",
    "revenue_2014_df = revenue_df.loc[dates_2014]\n",
    "revenue_2015_df = revenue_df.loc[dates_2015]\n",
    "revenue_2016_df = revenue_df.loc[dates_2016]\n",
    "\n",
    "revenue_2014_df.tail()"
   ]
  },
  {
   "cell_type": "code",
   "execution_count": null,
   "metadata": {},
   "outputs": [],
   "source": [
    "#Scatter plot of sales revenue in the State of WA for each day over time\n",
    "dates_2014 = revenue_2014_df[\"Date\"].tolist()\n",
    "sales_2014 = revenue_2014_df[\"Sales (Shelf Price)\"]\n",
    "\n",
    "dates_2015 = revenue_2015_df[\"Date\"].tolist()\n",
    "sales_2015 = revenue_2015_df[\"Sales (Shelf Price)\"]\n",
    "\n",
    "dates_2016 = revenue_2016_df[\"Date\"].tolist()\n",
    "sales_2016 = revenue_2016_df[\"Sales (Shelf Price)\"]\n",
    "\n",
    "scatter_2014 = plt.scatter(dates_2014, sales_2014, s =10, c = 'lightcoral', alpha=0.75)\n",
    "scatter_2015 = plt.scatter(dates_2015, sales_2015, s =10, c = 'blue', alpha=0.75)\n",
    "scatter_2016 = plt.scatter(dates_2016, sales_2016, s =10, c = 'green', alpha=0.75)\n",
    "\n",
    "plt.title(\"Marijuana Sales Revenue in the State of WA Over Time\")\n",
    "#plt.xlabel(\"Date (Since First Sale of Marijuana)\")\n",
    "plt.ylabel(\"Sales Revenue ($)\")\n",
    "plt.legend((scatter_2014, scatter_2015, scatter_2016), ('2014 Revenue', '2015 Revenue', '2016 Revenue'))\n",
    "\n",
    "plt.ylim(0,max(sales_2016)+5)\n",
    "plt.rc('figure', figsize = (20,10))"
   ]
  },
  {
   "cell_type": "code",
   "execution_count": null,
   "metadata": {},
   "outputs": [],
   "source": [
    "#Sum of Sales(Shelf Price) for each year to find total revenue per year\n",
    "revenue_2014_sum = revenue_2014_df[\"Sales (Shelf Price)\"].sum()\n",
    "revenue_2015_sum = revenue_2015_df[\"Sales (Shelf Price)\"].sum()\n",
    "revenue_2016_sum = revenue_2016_df[\"Sales (Shelf Price)\"].sum()\n",
    "\n",
    "revenue_sum_df = pd.DataFrame({\n",
    "    \"Year\": [\"2014\", \"2015\", \"2016\"],\n",
    "    \"Revenue\": [revenue_2014_sum, revenue_2015_sum, revenue_2016_sum]})\n",
    "\n",
    "revenue_sum_df"
   ]
  },
  {
   "cell_type": "code",
   "execution_count": null,
   "metadata": {},
   "outputs": [],
   "source": [
    "year = revenue_sum_df[\"Year\"].tolist()\n",
    "revenue_list = (revenue_sum_df[\"Revenue\"]/1000000).tolist()\n",
    "colors = [\"lightcoral\", \"royalblue\", \"forestgreen\"]\n",
    "x_axis = np.arange(len(year))\n",
    "\n",
    "\n",
    "plt.bar(year, revenue_list, color=colors, align=\"center\")\n",
    "\n",
    "plt.title(\"Marijuana Sales Revenue in the State of WA Since Legalization by Year\")\n",
    "plt.ylabel(\"Sales Revenue (US$, millions)\")\n",
    "\n",
    "formatted_revenue_list = [\"%.2f\" % revenue for revenue in revenue_list]\n",
    "for i in range(len(x_axis)):\n",
    "    plt.text(x = x_axis[i]-0.07, y = revenue_list[i]+15, s = formatted_revenue_list[i], size = 15)"
   ]
  },
  {
   "cell_type": "code",
   "execution_count": null,
   "metadata": {},
   "outputs": [],
   "source": [
    "year = revenue_sum_df[\"Year\"].tolist()\n",
    "revenue = revenue_sum_df[\"Revenue\"].tolist()\n",
    "\n",
    "scatter_years = plt.scatter(year, revenue, s =10, c = 'lightcoral', alpha=0.75)\n",
    "\n",
    "plt.title(\"Marijuana Sales Revenue in the State of WA by Year\")\n",
    "#plt.xlabel(\"Date (Since First Sale of Marijuana)\")\n",
    "plt.ylabel(\"Sales Revenue ($)\")\n",
    "#plt.legend((scatter_2014, scatter_2015, scatter_2016), ('2014 Revenue', '2015 Revenue', '2016 Revenue'))\n",
    "\n",
    "#plt.ylim(0,max(sales_2016)+5)\n",
    "#plt.rc('figure', figsize = (20,10))"
   ]
  },
  {
   "cell_type": "code",
   "execution_count": null,
   "metadata": {},
   "outputs": [],
   "source": []
  },
  {
   "cell_type": "code",
   "execution_count": null,
   "metadata": {},
   "outputs": [],
   "source": []
  },
  {
   "cell_type": "code",
   "execution_count": null,
   "metadata": {},
   "outputs": [],
   "source": []
  }
 ],
 "metadata": {
  "kernelspec": {
   "display_name": "Python 3",
   "language": "python",
   "name": "python3"
  },
  "language_info": {
   "codemirror_mode": {
    "name": "ipython",
    "version": 3
   },
   "file_extension": ".py",
   "mimetype": "text/x-python",
   "name": "python",
   "nbconvert_exporter": "python",
   "pygments_lexer": "ipython3",
   "version": "3.6.6"
  },
  "varInspector": {
   "cols": {
    "lenName": 16,
    "lenType": 16,
    "lenVar": 40
   },
   "kernels_config": {
    "python": {
     "delete_cmd_postfix": "",
     "delete_cmd_prefix": "del ",
     "library": "var_list.py",
     "varRefreshCmd": "print(var_dic_list())"
    },
    "r": {
     "delete_cmd_postfix": ") ",
     "delete_cmd_prefix": "rm(",
     "library": "var_list.r",
     "varRefreshCmd": "cat(var_dic_list()) "
    }
   },
   "types_to_exclude": [
    "module",
    "function",
    "builtin_function_or_method",
    "instance",
    "_Feature"
   ],
   "window_display": false
  }
 },
 "nbformat": 4,
 "nbformat_minor": 2
}
