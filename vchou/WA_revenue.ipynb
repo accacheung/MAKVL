{
 "cells": [
  {
   "cell_type": "code",
   "execution_count": 1,
   "metadata": {},
   "outputs": [],
   "source": [
    "# Dependencies\n",
    "import matplotlib.pyplot as plt\n",
    "import pandas as pd\n",
    "import numpy as np"
   ]
  },
  {
   "cell_type": "code",
   "execution_count": 2,
   "metadata": {},
   "outputs": [
    {
     "data": {
      "text/html": [
       "<div>\n",
       "<style scoped>\n",
       "    .dataframe tbody tr th:only-of-type {\n",
       "        vertical-align: middle;\n",
       "    }\n",
       "\n",
       "    .dataframe tbody tr th {\n",
       "        vertical-align: top;\n",
       "    }\n",
       "\n",
       "    .dataframe thead th {\n",
       "        text-align: right;\n",
       "    }\n",
       "</style>\n",
       "<table border=\"1\" class=\"dataframe\">\n",
       "  <thead>\n",
       "    <tr style=\"text-align: right;\">\n",
       "      <th></th>\n",
       "      <th>Date</th>\n",
       "      <th>Sales</th>\n",
       "      <th>Excise Tax Due</th>\n",
       "      <th>Sales (Shelf Price)</th>\n",
       "    </tr>\n",
       "  </thead>\n",
       "  <tbody>\n",
       "    <tr>\n",
       "      <th>940</th>\n",
       "      <td>12/27/2016</td>\n",
       "      <td>3324831.99</td>\n",
       "      <td>752106.45</td>\n",
       "      <td>4076938.44</td>\n",
       "    </tr>\n",
       "    <tr>\n",
       "      <th>941</th>\n",
       "      <td>12/28/2016</td>\n",
       "      <td>3452036.10</td>\n",
       "      <td>797870.30</td>\n",
       "      <td>4249906.40</td>\n",
       "    </tr>\n",
       "    <tr>\n",
       "      <th>942</th>\n",
       "      <td>12/29/2016</td>\n",
       "      <td>4200475.36</td>\n",
       "      <td>859655.24</td>\n",
       "      <td>5060130.60</td>\n",
       "    </tr>\n",
       "    <tr>\n",
       "      <th>943</th>\n",
       "      <td>12/30/2016</td>\n",
       "      <td>5221889.13</td>\n",
       "      <td>1243811.86</td>\n",
       "      <td>6465700.99</td>\n",
       "    </tr>\n",
       "    <tr>\n",
       "      <th>944</th>\n",
       "      <td>12/31/2016</td>\n",
       "      <td>3713397.08</td>\n",
       "      <td>1354076.00</td>\n",
       "      <td>5067473.08</td>\n",
       "    </tr>\n",
       "  </tbody>\n",
       "</table>\n",
       "</div>"
      ],
      "text/plain": [
       "           Date       Sales  Excise Tax Due  Sales (Shelf Price)\n",
       "940  12/27/2016  3324831.99       752106.45           4076938.44\n",
       "941  12/28/2016  3452036.10       797870.30           4249906.40\n",
       "942  12/29/2016  4200475.36       859655.24           5060130.60\n",
       "943  12/30/2016  5221889.13      1243811.86           6465700.99\n",
       "944  12/31/2016  3713397.08      1354076.00           5067473.08"
      ]
     },
     "execution_count": 2,
     "metadata": {},
     "output_type": "execute_result"
    }
   ],
   "source": [
    "#Total WA sales by calendar year\n",
    "revenue = \"2014_to_2016_WA_revenue.csv\"\n",
    "\n",
    "revenue_df = fy2015_df = pd.read_csv(revenue)\n",
    "\n",
    "#Preview of revenue dataframe\n",
    "revenue_df.tail()"
   ]
  },
  {
   "cell_type": "code",
   "execution_count": 3,
   "metadata": {},
   "outputs": [
    {
     "data": {
      "text/plain": [
       "940   2016-12-27\n",
       "941   2016-12-28\n",
       "942   2016-12-29\n",
       "943   2016-12-30\n",
       "944   2016-12-31\n",
       "Name: Date, dtype: datetime64[ns]"
      ]
     },
     "execution_count": 3,
     "metadata": {},
     "output_type": "execute_result"
    }
   ],
   "source": [
    "#Converted Date column to series with dtype datetime64[ns]\n",
    "revenue_df[\"Date\"] = pd.to_datetime(revenue_df[\"Date\"])\n",
    "\n",
    "revenue_df[\"Date\"].tail()"
   ]
  },
  {
   "cell_type": "code",
   "execution_count": 4,
   "metadata": {},
   "outputs": [
    {
     "data": {
      "text/html": [
       "<div>\n",
       "<style scoped>\n",
       "    .dataframe tbody tr th:only-of-type {\n",
       "        vertical-align: middle;\n",
       "    }\n",
       "\n",
       "    .dataframe tbody tr th {\n",
       "        vertical-align: top;\n",
       "    }\n",
       "\n",
       "    .dataframe thead th {\n",
       "        text-align: right;\n",
       "    }\n",
       "</style>\n",
       "<table border=\"1\" class=\"dataframe\">\n",
       "  <thead>\n",
       "    <tr style=\"text-align: right;\">\n",
       "      <th></th>\n",
       "      <th>Date</th>\n",
       "      <th>Sales</th>\n",
       "      <th>Excise Tax Due</th>\n",
       "      <th>Sales (Shelf Price)</th>\n",
       "    </tr>\n",
       "  </thead>\n",
       "  <tbody>\n",
       "    <tr>\n",
       "      <th>209</th>\n",
       "      <td>2014-12-27</td>\n",
       "      <td>5.679374e+05</td>\n",
       "      <td>113587.4750</td>\n",
       "      <td>454349.90</td>\n",
       "    </tr>\n",
       "    <tr>\n",
       "      <th>210</th>\n",
       "      <td>2014-12-28</td>\n",
       "      <td>5.139297e+05</td>\n",
       "      <td>102785.9475</td>\n",
       "      <td>411143.79</td>\n",
       "    </tr>\n",
       "    <tr>\n",
       "      <th>211</th>\n",
       "      <td>2014-12-29</td>\n",
       "      <td>8.474707e+05</td>\n",
       "      <td>169494.1475</td>\n",
       "      <td>677976.59</td>\n",
       "    </tr>\n",
       "    <tr>\n",
       "      <th>212</th>\n",
       "      <td>2014-12-30</td>\n",
       "      <td>6.672432e+05</td>\n",
       "      <td>133448.6300</td>\n",
       "      <td>533794.52</td>\n",
       "    </tr>\n",
       "    <tr>\n",
       "      <th>213</th>\n",
       "      <td>2014-12-31</td>\n",
       "      <td>1.947348e+06</td>\n",
       "      <td>389469.6600</td>\n",
       "      <td>1557878.64</td>\n",
       "    </tr>\n",
       "  </tbody>\n",
       "</table>\n",
       "</div>"
      ],
      "text/plain": [
       "          Date         Sales  Excise Tax Due  Sales (Shelf Price)\n",
       "209 2014-12-27  5.679374e+05     113587.4750            454349.90\n",
       "210 2014-12-28  5.139297e+05     102785.9475            411143.79\n",
       "211 2014-12-29  8.474707e+05     169494.1475            677976.59\n",
       "212 2014-12-30  6.672432e+05     133448.6300            533794.52\n",
       "213 2014-12-31  1.947348e+06     389469.6600           1557878.64"
      ]
     },
     "execution_count": 4,
     "metadata": {},
     "output_type": "execute_result"
    }
   ],
   "source": [
    "#Created separate dataframes for each year from 2014 to 2016\n",
    "dates_2014 = (revenue_df['Date'] > \"2013-12-31\") & (revenue_df['Date'] <= \"2014-12-31\")\n",
    "dates_2015 = (revenue_df['Date'] > \"2014-12-31\") & (revenue_df['Date'] <= \"2015-12-31\")\n",
    "dates_2016 = (revenue_df['Date'] > \"2015-12-31\") & (revenue_df['Date'] <= \"2016-12-31\")\n",
    "\n",
    "revenue_2014_df = revenue_df.loc[dates_2014]\n",
    "revenue_2015_df = revenue_df.loc[dates_2015]\n",
    "revenue_2016_df = revenue_df.loc[dates_2016]\n",
    "\n",
    "revenue_2014_df.tail()"
   ]
  },
  {
   "cell_type": "code",
   "execution_count": 8,
   "metadata": {},
   "outputs": [
    {
     "data": {
      "image/png": "[encoded data removed]",
      "text/plain": [
       "<Figure size 1440x720 with 1 Axes>"
      ]
     },
     "metadata": {},
     "output_type": "display_data"
    }
   ],
   "source": [
    "dates_2014 = revenue_2014_df[\"Date\"].tolist()\n",
    "sales_2014 = revenue_2014_df[\"Sales (Shelf Price)\"]\n",
    "\n",
    "dates_2015 = revenue_2015_df[\"Date\"].tolist()\n",
    "sales_2015 = revenue_2015_df[\"Sales (Shelf Price)\"]\n",
    "\n",
    "dates_2016 = revenue_2016_df[\"Date\"].tolist()\n",
    "sales_2016 = revenue_2016_df[\"Sales (Shelf Price)\"]\n",
    "\n",
    "scatter_2014 = plt.scatter(dates_2014, sales_2014, s =10, c = 'lightcoral', alpha=0.75)\n",
    "scatter_2015 = plt.scatter(dates_2015, sales_2015, s =10, c = 'blue', alpha=0.75)\n",
    "scatter_2016 = plt.scatter(dates_2016, sales_2016, s =10, c = 'green', alpha=0.75)\n",
    "\n",
    "plt.title(\"Marijuana Sales Revenue in the State of WA Over Time\")\n",
    "#plt.xlabel(\"Date (Since First Sale of Marijuana)\")\n",
    "plt.ylabel(\"Sales Revenue ($)\")\n",
    "plt.legend((scatter_2014, scatter_2015, scatter_2016), ('2014 Revenue', '2015 Revenue', '2016 Revenue'))\n",
    "\n",
    "plt.ylim(0,max(sales_2016)+5)\n",
    "plt.rc('figure', figsize = (20,10))"
   ]
  },
  {
   "cell_type": "code",
   "execution_count": 6,
   "metadata": {},
   "outputs": [
    {
     "data": {
      "text/html": [
       "<div>\n",
       "<style scoped>\n",
       "    .dataframe tbody tr th:only-of-type {\n",
       "        vertical-align: middle;\n",
       "    }\n",
       "\n",
       "    .dataframe tbody tr th {\n",
       "        vertical-align: top;\n",
       "    }\n",
       "\n",
       "    .dataframe thead th {\n",
       "        text-align: right;\n",
       "    }\n",
       "</style>\n",
       "<table border=\"1\" class=\"dataframe\">\n",
       "  <thead>\n",
       "    <tr style=\"text-align: right;\">\n",
       "      <th></th>\n",
       "      <th>Year</th>\n",
       "      <th>Revenue</th>\n",
       "    </tr>\n",
       "  </thead>\n",
       "  <tbody>\n",
       "    <tr>\n",
       "      <th>0</th>\n",
       "      <td>2014</td>\n",
       "      <td>6.514394e+07</td>\n",
       "    </tr>\n",
       "    <tr>\n",
       "      <th>1</th>\n",
       "      <td>2015</td>\n",
       "      <td>6.150861e+08</td>\n",
       "    </tr>\n",
       "    <tr>\n",
       "      <th>2</th>\n",
       "      <td>2016</td>\n",
       "      <td>1.366502e+09</td>\n",
       "    </tr>\n",
       "  </tbody>\n",
       "</table>\n",
       "</div>"
      ],
      "text/plain": [
       "   Year       Revenue\n",
       "0  2014  6.514394e+07\n",
       "1  2015  6.150861e+08\n",
       "2  2016  1.366502e+09"
      ]
     },
     "execution_count": 6,
     "metadata": {},
     "output_type": "execute_result"
    }
   ],
   "source": [
    "#Sum of Sales(Shelf Price) for each year to find total revenue per year\n",
    "revenue_2014_sum = revenue_2014_df[\"Sales (Shelf Price)\"].sum()\n",
    "revenue_2015_sum = revenue_2015_df[\"Sales (Shelf Price)\"].sum()\n",
    "revenue_2016_sum = revenue_2016_df[\"Sales (Shelf Price)\"].sum()\n",
    "\n",
    "revenue_sum_df = pd.DataFrame({\n",
    "    \"Year\": [\"2014\", \"2015\", \"2016\"],\n",
    "    \"Revenue\": [revenue_2014_sum, revenue_2015_sum, revenue_2016_sum]})\n",
    "\n",
    "revenue_sum_df"
   ]
  },
  {
   "cell_type": "code",
   "execution_count": null,
   "metadata": {},
   "outputs": [],
   "source": []
  },
  {
   "cell_type": "code",
   "execution_count": null,
   "metadata": {},
   "outputs": [],
   "source": []
  },
  {
   "cell_type": "code",
   "execution_count": null,
   "metadata": {},
   "outputs": [],
   "source": []
  },
  {
   "cell_type": "code",
   "execution_count": null,
   "metadata": {},
   "outputs": [],
   "source": []
  }
 ],
 "metadata": {
  "kernelspec": {
   "display_name": "Python 3",
   "language": "python",
   "name": "python3"
  },
  "language_info": {
   "codemirror_mode": {
    "name": "ipython",
    "version": 3
   },
   "file_extension": ".py",
   "mimetype": "text/x-python",
   "name": "python",
   "nbconvert_exporter": "python",
   "pygments_lexer": "ipython3",
   "version": "3.6.6"
  },
  "varInspector": {
   "cols": {
    "lenName": 16,
    "lenType": 16,
    "lenVar": 40
   },
   "kernels_config": {
    "python": {
     "delete_cmd_postfix": "",
     "delete_cmd_prefix": "del ",
     "library": "var_list.py",
     "varRefreshCmd": "print(var_dic_list())"
    },
    "r": {
     "delete_cmd_postfix": ") ",
     "delete_cmd_prefix": "rm(",
     "library": "var_list.r",
     "varRefreshCmd": "cat(var_dic_list()) "
    }
   },
   "types_to_exclude": [
    "module",
    "function",
    "builtin_function_or_method",
    "instance",
    "_Feature"
   ],
   "window_display": false
  }
 },
 "nbformat": 4,
 "nbformat_minor": 2
}
