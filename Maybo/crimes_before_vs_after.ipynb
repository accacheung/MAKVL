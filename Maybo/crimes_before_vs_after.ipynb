{
 "cells": [
  {
   "cell_type": "markdown",
   "metadata": {},
   "source": [
    "## Independent T test "
   ]
  },
  {
   "cell_type": "code",
   "execution_count": 1,
   "metadata": {},
   "outputs": [
    {
     "data": {
      "text/html": [
       "<div>\n",
       "<style scoped>\n",
       "    .dataframe tbody tr th:only-of-type {\n",
       "        vertical-align: middle;\n",
       "    }\n",
       "\n",
       "    .dataframe tbody tr th {\n",
       "        vertical-align: top;\n",
       "    }\n",
       "\n",
       "    .dataframe thead th {\n",
       "        text-align: right;\n",
       "    }\n",
       "</style>\n",
       "<table border=\"1\" class=\"dataframe\">\n",
       "  <thead>\n",
       "    <tr style=\"text-align: right;\">\n",
       "      <th></th>\n",
       "      <th>Year</th>\n",
       "      <th>County</th>\n",
       "      <th>Total Population</th>\n",
       "      <th>Total Crime</th>\n",
       "      <th>Orig_DF</th>\n",
       "    </tr>\n",
       "  </thead>\n",
       "  <tbody>\n",
       "    <tr>\n",
       "      <th>160</th>\n",
       "      <td>2012</td>\n",
       "      <td>state</td>\n",
       "      <td>6817770</td>\n",
       "      <td>301233</td>\n",
       "      <td>Violence + Murder</td>\n",
       "    </tr>\n",
       "    <tr>\n",
       "      <th>161</th>\n",
       "      <td>2013</td>\n",
       "      <td>state</td>\n",
       "      <td>6882400</td>\n",
       "      <td>324057</td>\n",
       "      <td>Violence + Murder</td>\n",
       "    </tr>\n",
       "    <tr>\n",
       "      <th>162</th>\n",
       "      <td>2014</td>\n",
       "      <td>state</td>\n",
       "      <td>6968170</td>\n",
       "      <td>349880</td>\n",
       "      <td>Violence + Murder</td>\n",
       "    </tr>\n",
       "    <tr>\n",
       "      <th>163</th>\n",
       "      <td>2015</td>\n",
       "      <td>state</td>\n",
       "      <td>7061410</td>\n",
       "      <td>362040</td>\n",
       "      <td>Violence + Murder</td>\n",
       "    </tr>\n",
       "    <tr>\n",
       "      <th>164</th>\n",
       "      <td>2016</td>\n",
       "      <td>state</td>\n",
       "      <td>7183700</td>\n",
       "      <td>415368</td>\n",
       "      <td>Violence + Murder</td>\n",
       "    </tr>\n",
       "    <tr>\n",
       "      <th>360</th>\n",
       "      <td>2012</td>\n",
       "      <td>state</td>\n",
       "      <td>6817770</td>\n",
       "      <td>148982</td>\n",
       "      <td>Robbery</td>\n",
       "    </tr>\n",
       "    <tr>\n",
       "      <th>361</th>\n",
       "      <td>2013</td>\n",
       "      <td>state</td>\n",
       "      <td>6882400</td>\n",
       "      <td>166443</td>\n",
       "      <td>Robbery</td>\n",
       "    </tr>\n",
       "    <tr>\n",
       "      <th>362</th>\n",
       "      <td>2014</td>\n",
       "      <td>state</td>\n",
       "      <td>6968170</td>\n",
       "      <td>186992</td>\n",
       "      <td>Robbery</td>\n",
       "    </tr>\n",
       "    <tr>\n",
       "      <th>363</th>\n",
       "      <td>2015</td>\n",
       "      <td>state</td>\n",
       "      <td>7061410</td>\n",
       "      <td>190404</td>\n",
       "      <td>Robbery</td>\n",
       "    </tr>\n",
       "    <tr>\n",
       "      <th>364</th>\n",
       "      <td>2016</td>\n",
       "      <td>state</td>\n",
       "      <td>7183700</td>\n",
       "      <td>220813</td>\n",
       "      <td>Robbery</td>\n",
       "    </tr>\n",
       "    <tr>\n",
       "      <th>560</th>\n",
       "      <td>2012</td>\n",
       "      <td>state</td>\n",
       "      <td>6817770</td>\n",
       "      <td>279397</td>\n",
       "      <td>Properties</td>\n",
       "    </tr>\n",
       "    <tr>\n",
       "      <th>561</th>\n",
       "      <td>2013</td>\n",
       "      <td>state</td>\n",
       "      <td>6882400</td>\n",
       "      <td>297348</td>\n",
       "      <td>Properties</td>\n",
       "    </tr>\n",
       "    <tr>\n",
       "      <th>562</th>\n",
       "      <td>2014</td>\n",
       "      <td>state</td>\n",
       "      <td>6968170</td>\n",
       "      <td>319331</td>\n",
       "      <td>Properties</td>\n",
       "    </tr>\n",
       "    <tr>\n",
       "      <th>563</th>\n",
       "      <td>2015</td>\n",
       "      <td>state</td>\n",
       "      <td>7061410</td>\n",
       "      <td>327047</td>\n",
       "      <td>Properties</td>\n",
       "    </tr>\n",
       "    <tr>\n",
       "      <th>564</th>\n",
       "      <td>2016</td>\n",
       "      <td>state</td>\n",
       "      <td>7183700</td>\n",
       "      <td>373540</td>\n",
       "      <td>Properties</td>\n",
       "    </tr>\n",
       "    <tr>\n",
       "      <th>760</th>\n",
       "      <td>2012</td>\n",
       "      <td>state</td>\n",
       "      <td>6817770</td>\n",
       "      <td>46620</td>\n",
       "      <td>Drug</td>\n",
       "    </tr>\n",
       "    <tr>\n",
       "      <th>761</th>\n",
       "      <td>2013</td>\n",
       "      <td>state</td>\n",
       "      <td>6882400</td>\n",
       "      <td>40456</td>\n",
       "      <td>Drug</td>\n",
       "    </tr>\n",
       "    <tr>\n",
       "      <th>762</th>\n",
       "      <td>2014</td>\n",
       "      <td>state</td>\n",
       "      <td>6968170</td>\n",
       "      <td>43084</td>\n",
       "      <td>Drug</td>\n",
       "    </tr>\n",
       "    <tr>\n",
       "      <th>763</th>\n",
       "      <td>2015</td>\n",
       "      <td>state</td>\n",
       "      <td>7061410</td>\n",
       "      <td>45488</td>\n",
       "      <td>Drug</td>\n",
       "    </tr>\n",
       "    <tr>\n",
       "      <th>764</th>\n",
       "      <td>2016</td>\n",
       "      <td>state</td>\n",
       "      <td>7183700</td>\n",
       "      <td>56875</td>\n",
       "      <td>Drug</td>\n",
       "    </tr>\n",
       "    <tr>\n",
       "      <th>960</th>\n",
       "      <td>2012</td>\n",
       "      <td>state</td>\n",
       "      <td>6817770</td>\n",
       "      <td>3995</td>\n",
       "      <td>Sexual</td>\n",
       "    </tr>\n",
       "    <tr>\n",
       "      <th>961</th>\n",
       "      <td>2013</td>\n",
       "      <td>state</td>\n",
       "      <td>6882400</td>\n",
       "      <td>4109</td>\n",
       "      <td>Sexual</td>\n",
       "    </tr>\n",
       "    <tr>\n",
       "      <th>962</th>\n",
       "      <td>2014</td>\n",
       "      <td>state</td>\n",
       "      <td>6968170</td>\n",
       "      <td>4588</td>\n",
       "      <td>Sexual</td>\n",
       "    </tr>\n",
       "    <tr>\n",
       "      <th>963</th>\n",
       "      <td>2015</td>\n",
       "      <td>state</td>\n",
       "      <td>7061410</td>\n",
       "      <td>4814</td>\n",
       "      <td>Sexual</td>\n",
       "    </tr>\n",
       "    <tr>\n",
       "      <th>964</th>\n",
       "      <td>2016</td>\n",
       "      <td>state</td>\n",
       "      <td>7183700</td>\n",
       "      <td>5830</td>\n",
       "      <td>Sexual</td>\n",
       "    </tr>\n",
       "    <tr>\n",
       "      <th>1160</th>\n",
       "      <td>2012</td>\n",
       "      <td>state</td>\n",
       "      <td>6817770</td>\n",
       "      <td>330669</td>\n",
       "      <td>Overall</td>\n",
       "    </tr>\n",
       "    <tr>\n",
       "      <th>1161</th>\n",
       "      <td>2013</td>\n",
       "      <td>state</td>\n",
       "      <td>6882400</td>\n",
       "      <td>360444</td>\n",
       "      <td>Overall</td>\n",
       "    </tr>\n",
       "    <tr>\n",
       "      <th>1162</th>\n",
       "      <td>2014</td>\n",
       "      <td>state</td>\n",
       "      <td>6968170</td>\n",
       "      <td>387449</td>\n",
       "      <td>Overall</td>\n",
       "    </tr>\n",
       "    <tr>\n",
       "      <th>1163</th>\n",
       "      <td>2015</td>\n",
       "      <td>state</td>\n",
       "      <td>7061410</td>\n",
       "      <td>401051</td>\n",
       "      <td>Overall</td>\n",
       "    </tr>\n",
       "    <tr>\n",
       "      <th>1164</th>\n",
       "      <td>2016</td>\n",
       "      <td>state</td>\n",
       "      <td>7183700</td>\n",
       "      <td>460825</td>\n",
       "      <td>Overall</td>\n",
       "    </tr>\n",
       "  </tbody>\n",
       "</table>\n",
       "</div>"
      ],
      "text/plain": [
       "      Year County  Total Population  Total Crime            Orig_DF\n",
       "160   2012  state           6817770       301233  Violence + Murder\n",
       "161   2013  state           6882400       324057  Violence + Murder\n",
       "162   2014  state           6968170       349880  Violence + Murder\n",
       "163   2015  state           7061410       362040  Violence + Murder\n",
       "164   2016  state           7183700       415368  Violence + Murder\n",
       "360   2012  state           6817770       148982            Robbery\n",
       "361   2013  state           6882400       166443            Robbery\n",
       "362   2014  state           6968170       186992            Robbery\n",
       "363   2015  state           7061410       190404            Robbery\n",
       "364   2016  state           7183700       220813            Robbery\n",
       "560   2012  state           6817770       279397         Properties\n",
       "561   2013  state           6882400       297348         Properties\n",
       "562   2014  state           6968170       319331         Properties\n",
       "563   2015  state           7061410       327047         Properties\n",
       "564   2016  state           7183700       373540         Properties\n",
       "760   2012  state           6817770        46620               Drug\n",
       "761   2013  state           6882400        40456               Drug\n",
       "762   2014  state           6968170        43084               Drug\n",
       "763   2015  state           7061410        45488               Drug\n",
       "764   2016  state           7183700        56875               Drug\n",
       "960   2012  state           6817770         3995             Sexual\n",
       "961   2013  state           6882400         4109             Sexual\n",
       "962   2014  state           6968170         4588             Sexual\n",
       "963   2015  state           7061410         4814             Sexual\n",
       "964   2016  state           7183700         5830             Sexual\n",
       "1160  2012  state           6817770       330669            Overall\n",
       "1161  2013  state           6882400       360444            Overall\n",
       "1162  2014  state           6968170       387449            Overall\n",
       "1163  2015  state           7061410       401051            Overall\n",
       "1164  2016  state           7183700       460825            Overall"
      ]
     },
     "execution_count": 1,
     "metadata": {},
     "output_type": "execute_result"
    }
   ],
   "source": [
    "# Import Dependencies\n",
    "import pandas as pd\n",
    "import numpy as np\n",
    "import matplotlib.pyplot as plt\n",
    "import scipy.stats as stats\n",
    "\n",
    "# Converting CSV into DataFrame and dropping useless column\n",
    "combined = pd.read_csv(\"Resources/total_df.csv\")\n",
    "combined = combined.drop(columns=[\"Unnamed: 0\", \"Classification\"])\n",
    "\n",
    "# Creating a new DataFrame with only state data\n",
    "state_filtered = combined[combined[\"County\"] == \"state\"]\n",
    "state_filtered"
   ]
  },
  {
   "cell_type": "markdown",
   "metadata": {},
   "source": [
    "## Overall Crimes"
   ]
  },
  {
   "cell_type": "code",
   "execution_count": 2,
   "metadata": {},
   "outputs": [
    {
     "data": {
      "text/plain": [
       "Ttest_indResult(statistic=-2.042338232262239, pvalue=0.1172629749169466)"
      ]
     },
     "execution_count": 2,
     "metadata": {},
     "output_type": "execute_result"
    }
   ],
   "source": [
    "# Creating a DataFrame with only data from overall crimes\n",
    "# and using the year column as an index\n",
    "overall_df = state_filtered[state_filtered[\"Orig_DF\"] == \"Overall\"]\n",
    "overall_df.set_index('Year', inplace=True)\n",
    "\n",
    "# T test on overall crimes\n",
    "overall_pre = overall_df[\"Total Crime\"].loc[2012:2014]\n",
    "overall_after = overall_df[\"Total Crime\"].loc[2014:2016]\n",
    "\n",
    "stats.ttest_ind(overall_pre, overall_after, equal_var=False)"
   ]
  },
  {
   "cell_type": "markdown",
   "metadata": {},
   "source": [
    "## Violence + Murder Related Crimes"
   ]
  },
  {
   "cell_type": "code",
   "execution_count": 3,
   "metadata": {},
   "outputs": [
    {
     "data": {
      "text/plain": [
       "Ttest_indResult(statistic=-2.0667450870816424, pvalue=0.11585096393346576)"
      ]
     },
     "execution_count": 3,
     "metadata": {},
     "output_type": "execute_result"
    }
   ],
   "source": [
    "# Creating a DataFrame with only data from violence + murder crimes\n",
    "# and using the year column as an index\n",
    "viol_df = state_filtered[state_filtered[\"Orig_DF\"] == \"Violence + Murder\"]\n",
    "viol_df.set_index('Year', inplace=True)\n",
    "\n",
    "# T test on violence + murder related crimes\n",
    "viol_pre = viol_df[\"Total Crime\"].loc[2012:2014]\n",
    "viol_after = viol_df[\"Total Crime\"].loc[2014:2016]\n",
    "\n",
    "stats.ttest_ind(viol_pre, viol_after, equal_var=False)"
   ]
  },
  {
   "cell_type": "markdown",
   "metadata": {},
   "source": [
    "## Robbery Related Crimes"
   ]
  },
  {
   "cell_type": "code",
   "execution_count": 4,
   "metadata": {},
   "outputs": [
    {
     "data": {
      "text/plain": [
       "Ttest_indResult(statistic=-2.0775028640323834, pvalue=0.10635536485330326)"
      ]
     },
     "execution_count": 4,
     "metadata": {},
     "output_type": "execute_result"
    }
   ],
   "source": [
    "# Creating a DataFrame with only data from robbery related crimes\n",
    "# and using the year column as an index\n",
    "rob_df = state_filtered[state_filtered[\"Orig_DF\"] == \"Robbery\"]\n",
    "rob_df.set_index('Year', inplace=True)\n",
    "\n",
    "# T test on robbery related crimes\n",
    "rob_pre = rob_df[\"Total Crime\"].loc[2012:2014]\n",
    "rob_after = rob_df[\"Total Crime\"].loc[2014:2016]\n",
    "\n",
    "stats.ttest_ind(rob_pre, rob_after, equal_var=False)"
   ]
  },
  {
   "cell_type": "markdown",
   "metadata": {},
   "source": [
    "## Property Related Crimes"
   ]
  },
  {
   "cell_type": "code",
   "execution_count": 5,
   "metadata": {},
   "outputs": [
    {
     "data": {
      "text/plain": [
       "Ttest_indResult(statistic=-2.014294752520673, pvalue=0.12357132482811234)"
      ]
     },
     "execution_count": 5,
     "metadata": {},
     "output_type": "execute_result"
    }
   ],
   "source": [
    "# Creating a DataFrame with only data from property related crimes\n",
    "# and using the year column as an index\n",
    "prop_df = state_filtered[state_filtered[\"Orig_DF\"] == \"Properties\"]\n",
    "prop_df.set_index('Year', inplace=True)\n",
    "\n",
    "# T test on property related crimes\n",
    "prop_pre = prop_df[\"Total Crime\"].loc[2012:2014]\n",
    "prop_after = prop_df[\"Total Crime\"].loc[2014:2016]\n",
    "\n",
    "stats.ttest_ind(prop_pre, prop_after, equal_var=False)"
   ]
  },
  {
   "cell_type": "markdown",
   "metadata": {},
   "source": [
    "## Drug Related Crimes"
   ]
  },
  {
   "cell_type": "code",
   "execution_count": 6,
   "metadata": {},
   "outputs": [
    {
     "data": {
      "text/plain": [
       "Ttest_indResult(statistic=-1.104626934986356, pvalue=0.35841707947389007)"
      ]
     },
     "execution_count": 6,
     "metadata": {},
     "output_type": "execute_result"
    }
   ],
   "source": [
    "# Creating a DataFrame with only data from drug related crimes\n",
    "# and using the year column as an index\n",
    "drug_df = state_filtered[state_filtered[\"Orig_DF\"] == \"Drug\"]\n",
    "drug_df.set_index('Year', inplace=True)\n",
    "\n",
    "# T test on drug related crimes\n",
    "drug_pre = drug_df[\"Total Crime\"].loc[2012:2014]\n",
    "drug_after = drug_df[\"Total Crime\"].loc[2014:2016]\n",
    "\n",
    "stats.ttest_ind(drug_pre, drug_after, equal_var=False)"
   ]
  },
  {
   "cell_type": "markdown",
   "metadata": {},
   "source": [
    "## Sexual Related Crimes"
   ]
  },
  {
   "cell_type": "code",
   "execution_count": 7,
   "metadata": {},
   "outputs": [
    {
     "data": {
      "text/plain": [
       "Ttest_indResult(statistic=-2.0018060269651468, pvalue=0.14351855153342058)"
      ]
     },
     "execution_count": 7,
     "metadata": {},
     "output_type": "execute_result"
    }
   ],
   "source": [
    "# Creating a DataFrame with only data from sexual related crimes\n",
    "# and using the year column as an index\n",
    "sex_df = state_filtered[state_filtered[\"Orig_DF\"] == \"Sexual\"]\n",
    "sex_df.set_index('Year', inplace=True)\n",
    "\n",
    "# T test on sexual related crimes\n",
    "sex_pre = sex_df[\"Total Crime\"].loc[2012:2014]\n",
    "sex_after = sex_df[\"Total Crime\"].loc[2014:2016]\n",
    "\n",
    "stats.ttest_ind(sex_pre, sex_after, equal_var=False)"
   ]
  },
  {
   "cell_type": "code",
   "execution_count": null,
   "metadata": {},
   "outputs": [],
   "source": []
  }
 ],
 "metadata": {
  "kernelspec": {
   "display_name": "Python 3",
   "language": "python",
   "name": "python3"
  },
  "language_info": {
   "codemirror_mode": {
    "name": "ipython",
    "version": 3
   },
   "file_extension": ".py",
   "mimetype": "text/x-python",
   "name": "python",
   "nbconvert_exporter": "python",
   "pygments_lexer": "ipython3",
   "version": "3.6.4"
  }
 },
 "nbformat": 4,
 "nbformat_minor": 2
}
