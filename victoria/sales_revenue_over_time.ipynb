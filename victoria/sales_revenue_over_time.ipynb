{
 "cells": [
  {
   "cell_type": "code",
   "execution_count": 1,
   "metadata": {},
   "outputs": [],
   "source": [
    "# Dependencies\n",
    "import matplotlib.pyplot as plt\n",
    "import pandas as pd\n",
    "import numpy as np\n"
   ]
  },
  {
   "cell_type": "code",
   "execution_count": 2,
   "metadata": {},
   "outputs": [
    {
     "data": {
      "text/html": [
       "<div>\n",
       "<style scoped>\n",
       "    .dataframe tbody tr th:only-of-type {\n",
       "        vertical-align: middle;\n",
       "    }\n",
       "\n",
       "    .dataframe tbody tr th {\n",
       "        vertical-align: top;\n",
       "    }\n",
       "\n",
       "    .dataframe thead th {\n",
       "        text-align: right;\n",
       "    }\n",
       "</style>\n",
       "<table border=\"1\" class=\"dataframe\">\n",
       "  <thead>\n",
       "    <tr style=\"text-align: right;\">\n",
       "      <th></th>\n",
       "      <th>Date</th>\n",
       "      <th>Sales</th>\n",
       "      <th>Excise Tax Due</th>\n",
       "      <th>Sales (Shelf Price)</th>\n",
       "    </tr>\n",
       "  </thead>\n",
       "  <tbody>\n",
       "    <tr>\n",
       "      <th>940</th>\n",
       "      <td>12/27/2016</td>\n",
       "      <td>3324831.99</td>\n",
       "      <td>752106.45</td>\n",
       "      <td>4076938.44</td>\n",
       "    </tr>\n",
       "    <tr>\n",
       "      <th>941</th>\n",
       "      <td>12/28/2016</td>\n",
       "      <td>3452036.10</td>\n",
       "      <td>797870.30</td>\n",
       "      <td>4249906.40</td>\n",
       "    </tr>\n",
       "    <tr>\n",
       "      <th>942</th>\n",
       "      <td>12/29/2016</td>\n",
       "      <td>4200475.36</td>\n",
       "      <td>859655.24</td>\n",
       "      <td>5060130.60</td>\n",
       "    </tr>\n",
       "    <tr>\n",
       "      <th>943</th>\n",
       "      <td>12/30/2016</td>\n",
       "      <td>5221889.13</td>\n",
       "      <td>1243811.86</td>\n",
       "      <td>6465700.99</td>\n",
       "    </tr>\n",
       "    <tr>\n",
       "      <th>944</th>\n",
       "      <td>12/31/2016</td>\n",
       "      <td>3713397.08</td>\n",
       "      <td>1354076.00</td>\n",
       "      <td>5067473.08</td>\n",
       "    </tr>\n",
       "  </tbody>\n",
       "</table>\n",
       "</div>"
      ],
      "text/plain": [
       "           Date       Sales  Excise Tax Due  Sales (Shelf Price)\n",
       "940  12/27/2016  3324831.99       752106.45           4076938.44\n",
       "941  12/28/2016  3452036.10       797870.30           4249906.40\n",
       "942  12/29/2016  4200475.36       859655.24           5060130.60\n",
       "943  12/30/2016  5221889.13      1243811.86           6465700.99\n",
       "944  12/31/2016  3713397.08      1354076.00           5067473.08"
      ]
     },
     "execution_count": 2,
     "metadata": {},
     "output_type": "execute_result"
    }
   ],
   "source": [
    "#Total WA sales by calendar year\n",
    "revenue = \"Resources/2014_to_2016_WA_revenue.csv\"\n",
    "revenue_df = fy2015_df = pd.read_csv(revenue)\n",
    "\n",
    "#Preview of revenue dataframe\n",
    "revenue_df.tail()"
   ]
  },
  {
   "cell_type": "code",
   "execution_count": 3,
   "metadata": {},
   "outputs": [],
   "source": [
    "revenue_df = revenue_df[[\"Date\", \"Sales\"]]"
   ]
  },
  {
   "cell_type": "code",
   "execution_count": 4,
   "metadata": {},
   "outputs": [
    {
     "name": "stderr",
     "output_type": "stream",
     "text": [
      "C:\\ProgramData\\Anaconda3\\envs\\PythonData\\lib\\site-packages\\ipykernel_launcher.py:2: SettingWithCopyWarning: \n",
      "A value is trying to be set on a copy of a slice from a DataFrame.\n",
      "Try using .loc[row_indexer,col_indexer] = value instead\n",
      "\n",
      "See the caveats in the documentation: http://pandas.pydata.org/pandas-docs/stable/indexing.html#indexing-view-versus-copy\n",
      "  \n"
     ]
    },
    {
     "data": {
      "text/plain": [
       "940   2016-12-27\n",
       "941   2016-12-28\n",
       "942   2016-12-29\n",
       "943   2016-12-30\n",
       "944   2016-12-31\n",
       "Name: Date, dtype: datetime64[ns]"
      ]
     },
     "execution_count": 4,
     "metadata": {},
     "output_type": "execute_result"
    }
   ],
   "source": [
    "#Converted Date column to series with dtype datetime64[ns]\n",
    "revenue_df[\"Date\"] = pd.to_datetime(revenue_df[\"Date\"])\n",
    "\n",
    "revenue_df[\"Date\"].tail()"
   ]
  },
  {
   "cell_type": "code",
   "execution_count": 6,
   "metadata": {},
   "outputs": [
    {
     "data": {
      "text/html": [
       "<div>\n",
       "<style scoped>\n",
       "    .dataframe tbody tr th:only-of-type {\n",
       "        vertical-align: middle;\n",
       "    }\n",
       "\n",
       "    .dataframe tbody tr th {\n",
       "        vertical-align: top;\n",
       "    }\n",
       "\n",
       "    .dataframe thead th {\n",
       "        text-align: right;\n",
       "    }\n",
       "</style>\n",
       "<table border=\"1\" class=\"dataframe\">\n",
       "  <thead>\n",
       "    <tr style=\"text-align: right;\">\n",
       "      <th></th>\n",
       "      <th>Sales</th>\n",
       "    </tr>\n",
       "    <tr>\n",
       "      <th>Date</th>\n",
       "      <th></th>\n",
       "    </tr>\n",
       "  </thead>\n",
       "  <tbody>\n",
       "    <tr>\n",
       "      <th>2016-12-27</th>\n",
       "      <td>3324831.99</td>\n",
       "    </tr>\n",
       "    <tr>\n",
       "      <th>2016-12-28</th>\n",
       "      <td>3452036.10</td>\n",
       "    </tr>\n",
       "    <tr>\n",
       "      <th>2016-12-29</th>\n",
       "      <td>4200475.36</td>\n",
       "    </tr>\n",
       "    <tr>\n",
       "      <th>2016-12-30</th>\n",
       "      <td>5221889.13</td>\n",
       "    </tr>\n",
       "    <tr>\n",
       "      <th>2016-12-31</th>\n",
       "      <td>3713397.08</td>\n",
       "    </tr>\n",
       "  </tbody>\n",
       "</table>\n",
       "</div>"
      ],
      "text/plain": [
       "                 Sales\n",
       "Date                  \n",
       "2016-12-27  3324831.99\n",
       "2016-12-28  3452036.10\n",
       "2016-12-29  4200475.36\n",
       "2016-12-30  5221889.13\n",
       "2016-12-31  3713397.08"
      ]
     },
     "execution_count": 6,
     "metadata": {},
     "output_type": "execute_result"
    }
   ],
   "source": [
    "revenue_date_index = revenue_df.set_index(\"Date\")\n",
    "revenue_date_index.tail()"
   ]
  },
  {
   "cell_type": "code",
   "execution_count": 7,
   "metadata": {},
   "outputs": [
    {
     "data": {
      "text/plain": [
       "Date\n",
       "2014-06-30    7.875000e+03\n",
       "2014-07-31    4.046516e+06\n",
       "2014-08-31    8.817162e+06\n",
       "2014-09-30    1.078424e+07\n",
       "2014-10-31    1.631438e+07\n",
       "Freq: M, Name: Sales, dtype: float64"
      ]
     },
     "execution_count": 7,
     "metadata": {},
     "output_type": "execute_result"
    }
   ],
   "source": [
    "revenue_date_groupby = revenue_date_index.groupby(pd.Grouper(freq='M'))[\"Sales\"].sum()\n",
    "revenue_date_groupby.head()"
   ]
  },
  {
   "cell_type": "code",
   "execution_count": 8,
   "metadata": {},
   "outputs": [],
   "source": [
    "monthly_revenue_df = pd.DataFrame({\"Sales Revenue\": revenue_date_groupby})\n",
    "monthly_revenue_df = monthly_revenue_df.reset_index()"
   ]
  },
  {
   "cell_type": "code",
   "execution_count": 25,
   "metadata": {},
   "outputs": [
    {
     "data": {
      "image/png": "[encoded data removed]",
      "text/plain": [
       "<Figure size 1440x720 with 1 Axes>"
      ]
     },
     "metadata": {},
     "output_type": "display_data"
    }
   ],
   "source": [
    "#Marijuana Sales Revenue Over Time Line Plot\n",
    "dates_x_axis = monthly_revenue_df[\"Date\"].tolist()\n",
    "revenue_y_axis= (monthly_revenue_df[\"Sales Revenue\"]/1000000).tolist()\n",
    "\n",
    "plt.plot(dates_x_axis, revenue_y_axis, c = 'green', alpha=0.75)\n",
    "\n",
    "plt.title(\"Marijuana Sales Revenue (US$, millions) in the State of WA Over Time\", fontsize = 20)\n",
    "plt.ylabel(\"Sales Revenue (US$, millions)\", fontsize = 20)\n",
    "\n",
    "plt.rc('figure', figsize = (20,10))\n",
    "\n",
    "plt.savefig(\"Marijuana Sales Revenue Over Time\")"
   ]
  },
  {
   "cell_type": "code",
   "execution_count": 11,
   "metadata": {},
   "outputs": [
    {
     "data": {
      "text/html": [
       "<div>\n",
       "<style scoped>\n",
       "    .dataframe tbody tr th:only-of-type {\n",
       "        vertical-align: middle;\n",
       "    }\n",
       "\n",
       "    .dataframe tbody tr th {\n",
       "        vertical-align: top;\n",
       "    }\n",
       "\n",
       "    .dataframe thead th {\n",
       "        text-align: right;\n",
       "    }\n",
       "</style>\n",
       "<table border=\"1\" class=\"dataframe\">\n",
       "  <thead>\n",
       "    <tr style=\"text-align: right;\">\n",
       "      <th></th>\n",
       "      <th>Date</th>\n",
       "      <th>Sales</th>\n",
       "    </tr>\n",
       "  </thead>\n",
       "  <tbody>\n",
       "    <tr>\n",
       "      <th>209</th>\n",
       "      <td>2014-12-27</td>\n",
       "      <td>5.679374e+05</td>\n",
       "    </tr>\n",
       "    <tr>\n",
       "      <th>210</th>\n",
       "      <td>2014-12-28</td>\n",
       "      <td>5.139297e+05</td>\n",
       "    </tr>\n",
       "    <tr>\n",
       "      <th>211</th>\n",
       "      <td>2014-12-29</td>\n",
       "      <td>8.474707e+05</td>\n",
       "    </tr>\n",
       "    <tr>\n",
       "      <th>212</th>\n",
       "      <td>2014-12-30</td>\n",
       "      <td>6.672432e+05</td>\n",
       "    </tr>\n",
       "    <tr>\n",
       "      <th>213</th>\n",
       "      <td>2014-12-31</td>\n",
       "      <td>1.947348e+06</td>\n",
       "    </tr>\n",
       "  </tbody>\n",
       "</table>\n",
       "</div>"
      ],
      "text/plain": [
       "          Date         Sales\n",
       "209 2014-12-27  5.679374e+05\n",
       "210 2014-12-28  5.139297e+05\n",
       "211 2014-12-29  8.474707e+05\n",
       "212 2014-12-30  6.672432e+05\n",
       "213 2014-12-31  1.947348e+06"
      ]
     },
     "execution_count": 11,
     "metadata": {},
     "output_type": "execute_result"
    }
   ],
   "source": [
    "#Created separate dataframes for each year from 2014 to 2016\n",
    "dates_2014 = (revenue_df['Date'] > \"2013-12-31\") & (revenue_df['Date'] <= \"2014-12-31\")\n",
    "dates_2015 = (revenue_df['Date'] > \"2014-12-31\") & (revenue_df['Date'] <= \"2015-12-31\")\n",
    "dates_2016 = (revenue_df['Date'] > \"2015-12-31\") & (revenue_df['Date'] <= \"2016-12-31\")\n",
    "\n",
    "revenue_2014_df = revenue_df.loc[dates_2014]\n",
    "revenue_2015_df = revenue_df.loc[dates_2015]\n",
    "revenue_2016_df = revenue_df.loc[dates_2016]\n",
    "\n",
    "revenue_2014_df.tail()"
   ]
  },
  {
   "cell_type": "code",
   "execution_count": 13,
   "metadata": {},
   "outputs": [
    {
     "data": {
      "text/html": [
       "<div>\n",
       "<style scoped>\n",
       "    .dataframe tbody tr th:only-of-type {\n",
       "        vertical-align: middle;\n",
       "    }\n",
       "\n",
       "    .dataframe tbody tr th {\n",
       "        vertical-align: top;\n",
       "    }\n",
       "\n",
       "    .dataframe thead th {\n",
       "        text-align: right;\n",
       "    }\n",
       "</style>\n",
       "<table border=\"1\" class=\"dataframe\">\n",
       "  <thead>\n",
       "    <tr style=\"text-align: right;\">\n",
       "      <th></th>\n",
       "      <th>Year</th>\n",
       "      <th>Revenue</th>\n",
       "    </tr>\n",
       "  </thead>\n",
       "  <tbody>\n",
       "    <tr>\n",
       "      <th>0</th>\n",
       "      <td>2014</td>\n",
       "      <td>8.142992e+07</td>\n",
       "    </tr>\n",
       "    <tr>\n",
       "      <th>1</th>\n",
       "      <td>2015</td>\n",
       "      <td>5.828405e+08</td>\n",
       "    </tr>\n",
       "    <tr>\n",
       "      <th>2</th>\n",
       "      <td>2016</td>\n",
       "      <td>1.108915e+09</td>\n",
       "    </tr>\n",
       "  </tbody>\n",
       "</table>\n",
       "</div>"
      ],
      "text/plain": [
       "   Year       Revenue\n",
       "0  2014  8.142992e+07\n",
       "1  2015  5.828405e+08\n",
       "2  2016  1.108915e+09"
      ]
     },
     "execution_count": 13,
     "metadata": {},
     "output_type": "execute_result"
    }
   ],
   "source": [
    "#Sum of Sales(Shelf Price) for each year to find total revenue per year\n",
    "revenue_2014_sum = revenue_2014_df[\"Sales\"].sum()\n",
    "revenue_2015_sum = revenue_2015_df[\"Sales\"].sum()\n",
    "revenue_2016_sum = revenue_2016_df[\"Sales\"].sum()\n",
    "\n",
    "revenue_sum_df = pd.DataFrame({\n",
    "    \"Year\": [\"2014\", \"2015\", \"2016\"],\n",
    "    \"Revenue\": [revenue_2014_sum, revenue_2015_sum, revenue_2016_sum]})\n",
    "\n",
    "revenue_sum_df"
   ]
  },
  {
   "cell_type": "code",
   "execution_count": 26,
   "metadata": {},
   "outputs": [
    {
     "data": {
      "image/png": "[encoded data removed]",
      "text/plain": [
       "<Figure size 1440x720 with 1 Axes>"
      ]
     },
     "metadata": {},
     "output_type": "display_data"
    }
   ],
   "source": [
    "year = revenue_sum_df[\"Year\"].tolist()\n",
    "revenue_list = (revenue_sum_df[\"Revenue\"]/1000000).tolist()\n",
    "colors = [\"lightgreen\", \"seagreen\", \"forestgreen\"]\n",
    "x_axis = np.arange(len(year))\n",
    "\n",
    "\n",
    "plt.bar(year, revenue_list, color=colors, align=\"center\", width=0.4)\n",
    "\n",
    "plt.title(\"Marijuana Sales Revenue (US$, millions) in the State of WA by Year\", fontsize=20)\n",
    "plt.ylabel(\"Sales Revenue (US$, millions)\", fontsize=20)\n",
    "\n",
    "formatted_revenue_list = [\"%.2f\" % revenue for revenue in revenue_list]\n",
    "for i in range(len(x_axis)):\n",
    "    plt.text(x = x_axis[i]-0.07, y = revenue_list[i]+15, s = formatted_revenue_list[i], size = 15)\n",
    "    \n",
    "plt.savefig(\"Marijuana Sales Revenue by Year\")"
   ]
  }
 ],
 "metadata": {
  "kernelspec": {
   "display_name": "Python 3",
   "language": "python",
   "name": "python3"
  },
  "language_info": {
   "codemirror_mode": {
    "name": "ipython",
    "version": 3
   },
   "file_extension": ".py",
   "mimetype": "text/x-python",
   "name": "python",
   "nbconvert_exporter": "python",
   "pygments_lexer": "ipython3",
   "version": "3.6.6"
  },
  "varInspector": {
   "cols": {
    "lenName": 16,
    "lenType": 16,
    "lenVar": 40
   },
   "kernels_config": {
    "python": {
     "delete_cmd_postfix": "",
     "delete_cmd_prefix": "del ",
     "library": "var_list.py",
     "varRefreshCmd": "print(var_dic_list())"
    },
    "r": {
     "delete_cmd_postfix": ") ",
     "delete_cmd_prefix": "rm(",
     "library": "var_list.r",
     "varRefreshCmd": "cat(var_dic_list()) "
    }
   },
   "types_to_exclude": [
    "module",
    "function",
    "builtin_function_or_method",
    "instance",
    "_Feature"
   ],
   "window_display": false
  }
 },
 "nbformat": 4,
 "nbformat_minor": 2
}
